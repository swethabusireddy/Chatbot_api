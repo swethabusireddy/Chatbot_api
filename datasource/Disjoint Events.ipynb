{
 "cells": [
  {
   "cell_type": "markdown",
   "metadata": {},
   "source": [
    "[//]: # (LT: )\n",
    "\n",
    "[//]: # (ST:)\n",
    "\n",
    "[//]: #(KW:)"
   ]
  },
  {
   "cell_type": "markdown",
   "metadata": {},
   "source": [
    "### Disjoint Events\n",
    "\n",
    "Disjoint events are event that can not happen at the same time. We say that they are mutually exclusive. <br>\n",
    "\n",
    "Events A and B are disjoint if their intersection is zero: <br> \n",
    "\n",
    "$P(A \\textrm{ and } B) = P(A \\cap B) = 0$ <br> <br>\n",
    "\n",
    "Example:<br>\n",
    "\n",
    "In a standard deck of cards, Aces and 2's, or Jack's and 8's, etc. are mutually exclusive. If you draw one card, it cannot be both a 3 and a 5. <br>\n",
    "\n",
    "Thus,<br>\n",
    "\n",
    "$P(Ace \\textrm{ and } 2) = 0$ <br>\n",
    "\n",
    "The suit and face value are not mutually exclusive. If you draw one card, it can be a 2 of hearts, 3 of spades, etc. <br> <br>\n",
    "\n",
    "When two events, A and B, are mutually exclusive, we can determine the probabilities by: <br>\n",
    "\n",
    "$P(A \\textrm{ or } B) = P(A \\cup B) = P(A) + P(B)$ <br> <br>\n",
    "\n",
    "Example: <br>\n",
    "\n",
    "$P(\\textrm{drawing an Ace or } 2) = \\frac{4}{52} + \\frac{4}{52} = \\frac{2}{13}$<br> <br>\n",
    "\n",
    "The probability of drawing an Ace or a 2 is $\\frac{2}{13}$.<br> <br>\n",
    "\n",
    "When the events are not mutually exclusive, we must subtract the intersection of the two events to determine the probability of only one event occurring. <br>\n",
    "\n",
    "$P(A \\textrm{ or } B) = P(A) + P(B) - P(A \\textrm{ and } B) = P(A) + P(B) - P(A \\cap B)$<br> <br>\n",
    "\n",
    "Example: <br>\n",
    "\n",
    "In a standard deck of cards, we want to find the probability of drawing an Ace or a heart. To avoid double counting the Ace of hearts, we subtract the intersection P(A and heart). <br>\n",
    "\n",
    "$P(\\textrm{Ace or heart}) = P(\\textrm{Ace} \\cup \\textrm{heart}) = P(Ace) + P(heart) - P(\\textrm{Ace and heart})$ <br>\n",
    "\n",
    "$P(\\textrm{Ace} \\cup \\textrm{heart}) = \\frac{4}{52} + \\frac{13}{52} - \\frac{1}{52}$ <br>\n",
    "\n",
    "The probability of drawing an Ace or a heart is $\\frac{9}{26}$.<br>\n"
   ]
  },
  {
   "cell_type": "code",
   "execution_count": null,
   "metadata": {},
   "outputs": [],
   "source": []
  }
 ],
 "metadata": {
  "celltoolbar": "Edit Metadata",
  "kernelspec": {
   "display_name": "Python 3",
   "language": "python",
   "name": "python3"
  },
  "language_info": {
   "codemirror_mode": {
    "name": "ipython",
    "version": 3
   },
   "file_extension": ".py",
   "mimetype": "text/x-python",
   "name": "python",
   "nbconvert_exporter": "python",
   "pygments_lexer": "ipython3",
   "version": "3.7.3"
  }
 },
 "nbformat": 4,
 "nbformat_minor": 2
}
