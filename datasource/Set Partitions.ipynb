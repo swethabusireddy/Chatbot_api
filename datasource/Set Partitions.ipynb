{
 "cells": [
  {
   "cell_type": "markdown",
   "metadata": {},
   "source": [
    "# Set Partitions"
   ]
  },
  {
   "cell_type": "markdown",
   "metadata": {},
   "source": [
    "Grouping elements of a set into non-empty subsets in a way that every elemet is included in exactly one one subset is called partitioning of a set."
   ]
  },
  {
   "cell_type": "markdown",
   "metadata": {},
   "source": [
    "The intersection of any two subsets in the partition is an empty set. "
   ]
  },
  {
   "cell_type": "markdown",
   "metadata": {},
   "source": [
    "In other words, the subsets in the partition are said to be pairwise disjoint."
   ]
  },
  {
   "cell_type": "markdown",
   "metadata": {},
   "source": [
    "Example:"
   ]
  },
  {
   "cell_type": "markdown",
   "metadata": {},
   "source": [
    "The set A = {1,2,3} has the following five partitions:"
   ]
  },
  {
   "cell_type": "markdown",
   "metadata": {},
   "source": [
    "{{1} , {2} , {3}} is a partition, which is also written as 1|2|3"
   ]
  },
  {
   "cell_type": "markdown",
   "metadata": {},
   "source": [
    "The other four partitions are:"
   ]
  },
  {
   "cell_type": "markdown",
   "metadata": {},
   "source": [
    "{{1,2},{3}} or 1 2 | 3"
   ]
  },
  {
   "cell_type": "markdown",
   "metadata": {},
   "source": [
    "{{1,3},{2}} or 1 3 | 2"
   ]
  },
  {
   "cell_type": "markdown",
   "metadata": {},
   "source": [
    "{{1},{2,3}} or 1 | 3  2"
   ]
  },
  {
   "cell_type": "markdown",
   "metadata": {},
   "source": [
    "{{1,2,3}} or 1 2 3 "
   ]
  },
  {
   "cell_type": "markdown",
   "metadata": {},
   "source": [
    "Note : partitions should not contain the null set, an element should appear in exactly one partition, every element should appear in same partition."
   ]
  },
  {
   "cell_type": "markdown",
   "metadata": {},
   "source": [
    "Formally, let A be a set and $A_{1},A_{2},A_{3}, ... ,A_{n}$ be its subsets. the subsets form a partition on A, if the following three conditions hold:"
   ]
  },
  {
   "cell_type": "markdown",
   "metadata": {},
   "source": [
    "(1)  $A_{1} \\cup A_{2} \\cup A_{3} \\cup ... \\cup A_{n} = A$"
   ]
  },
  {
   "cell_type": "markdown",
   "metadata": {},
   "source": [
    "(2)  $A_{i} \\neq \\varnothing$ for all i"
   ]
  },
  {
   "cell_type": "markdown",
   "metadata": {},
   "source": [
    "(3) $A_{i} \\cap A_{j} = \\varnothing$ for all i $\\neq$ j"
   ]
  },
  {
   "cell_type": "markdown",
   "metadata": {},
   "source": [
    "Example: consider the following set of phone numbers (written in a format used in the United States):"
   ]
  },
  {
   "cell_type": "markdown",
   "metadata": {},
   "source": [
    "Phones = {252-328-9680, 704-978-4243, 336-521-1121, 704-888-0102, 336-678-1415, 252-968-1212} "
   ]
  },
  {
   "cell_type": "markdown",
   "metadata": {},
   "source": [
    "We deliver an equivalence relation to decoupe the set into its equicalence classes."
   ]
  },
  {
   "cell_type": "markdown",
   "metadata": {},
   "source": [
    "Therefore, the equivalence classes are:"
   ]
  },
  {
   "cell_type": "markdown",
   "metadata": {},
   "source": [
    "{252-328-9680, 252-968-1212}"
   ]
  },
  {
   "cell_type": "markdown",
   "metadata": {},
   "source": [
    "{704-978-4342, 704-888-0102}"
   ]
  },
  {
   "cell_type": "markdown",
   "metadata": {},
   "source": [
    "{336-521-1121, 336-678-1415}"
   ]
  },
  {
   "cell_type": "markdown",
   "metadata": {},
   "source": [
    "Note that all elements (i.e., phone numbers) in an equivalence class have the \"same area code.\" "
   ]
  },
  {
   "cell_type": "markdown",
   "metadata": {},
   "source": [
    "Equivalence classes form a partition on the ser phones."
   ]
  },
  {
   "cell_type": "markdown",
   "metadata": {},
   "source": [
    "The subsets of the partion are:"
   ]
  },
  {
   "cell_type": "markdown",
   "metadata": {},
   "source": [
    "{{252-328-9680, 252-968-1212},"
   ]
  },
  {
   "cell_type": "markdown",
   "metadata": {},
   "source": [
    "{704-978-4342, 704-888-0102},"
   ]
  },
  {
   "cell_type": "markdown",
   "metadata": {},
   "source": [
    "{336-521-1121, 336-678-1415} }"
   ]
  },
  {
   "cell_type": "markdown",
   "metadata": {},
   "source": [
    "Confirm that above subsets are a partition by verifying:"
   ]
  },
  {
   "cell_type": "markdown",
   "metadata": {},
   "source": [
    "(i) Each phone number appears in only one subset."
   ]
  },
  {
   "cell_type": "markdown",
   "metadata": {},
   "source": [
    "(ii) Every phone number appears in same subset."
   ]
  },
  {
   "cell_type": "markdown",
   "metadata": {},
   "source": [
    "(iii) No subset is a null set."
   ]
  },
  {
   "cell_type": "markdown",
   "metadata": {},
   "source": [
    "We also verify that the relation \"same area code\" is an equivalence on the set phones."
   ]
  },
  {
   "cell_type": "markdown",
   "metadata": {},
   "source": [
    "A relation R on a set A is an equivalence relation if it has the following three properties:"
   ]
  },
  {
   "cell_type": "markdown",
   "metadata": {},
   "source": [
    "(i) Reflexive, if x $\\in$ A, then (x,x) $\\in$ R"
   ]
  },
  {
   "cell_type": "markdown",
   "metadata": {},
   "source": [
    "(ii) Symmetric, if (x,y) $\\in$ R, then (y,x) $\\in$ R."
   ]
  },
  {
   "cell_type": "markdown",
   "metadata": {},
   "source": [
    "(iii) Transitive, if (x,y) $\\in$ R and if (y,z) $\\in$ R, then (x,z) $\\in$ R."
   ]
  },
  {
   "cell_type": "markdown",
   "metadata": {},
   "source": [
    "It is easy to verify that the relation \"Same area code\" satisfies all three properties, hence, it is an equivalence relation."
   ]
  },
  {
   "cell_type": "markdown",
   "metadata": {},
   "source": [
    "The relation is reflexive. let x be any two element of the set phones. It is obvious that any phone number and itself will have the same area code."
   ]
  },
  {
   "cell_type": "markdown",
   "metadata": {},
   "source": [
    "The relation is symmetric. let x and y be any two elements of the set phones, If x and y have the same area code, it is also true that y and x have the same area code."
   ]
  },
  {
   "cell_type": "markdown",
   "metadata": {},
   "source": [
    "The relation is transitive. let x, y and z be any three elements of the set phones."
   ]
  },
  {
   "cell_type": "markdown",
   "metadata": {},
   "source": [
    "If x and y have the same area code and y and z have the same area code, then x and z must have the same area code.(by transitive properties)."
   ]
  },
  {
   "cell_type": "markdown",
   "metadata": {},
   "source": [
    "The total number of partitions of an n-element set is the Bell number, $B_{n}$"
   ]
  },
  {
   "cell_type": "markdown",
   "metadata": {},
   "source": [
    "The first few Bell numbers are $B_{0} = 1,B_{1} = 1,B_{2} = 2,B_{3} = 5,B_{4} = 15$ and $B_{5} = 52$"
   ]
  },
  {
   "cell_type": "markdown",
   "metadata": {},
   "source": [
    "Bell numbers satisfies the recursion"
   ]
  },
  {
   "cell_type": "markdown",
   "metadata": {},
   "source": [
    "$B_{n+1} = \\sum_{k=0}^{n}\\binom{n}{k}B_{k}$"
   ]
  },
  {
   "cell_type": "markdown",
   "metadata": {},
   "source": [
    "Note: $\\binom{n}{k}$ is the binomial coefficience and is given by $\\binom{n}{k} = \\frac{n!}{K!(n-k)!}$"
   ]
  },
  {
   "cell_type": "markdown",
   "metadata": {},
   "source": [
    "The stirling number of the second kind (or stirling partition number) gives the number of ways to partition a set of n objects into k non-empty subsets(denoted S(n,k))."
   ]
  },
  {
   "cell_type": "markdown",
   "metadata": {},
   "source": [
    "S(n,k) is computed as:"
   ]
  },
  {
   "cell_type": "markdown",
   "metadata": {},
   "source": [
    "s(n,k) = $\\frac{1}{k!}\\sum_{i=0}^{k}(-1)^{i}\\binom{k}{i}(k-i)^{n}$"
   ]
  },
  {
   "cell_type": "markdown",
   "metadata": {},
   "source": [
    "A noncrossing partition of a set A is a partition in which no two blocks \"cross\" each other."
   ]
  },
  {
   "cell_type": "markdown",
   "metadata": {},
   "source": [
    "If the elements a and b belongs to one block and elements i and j belongs to another block, then a i b j is a crossing partition whereas a i j b and a b i j are noncrossing."
   ]
  },
  {
   "cell_type": "markdown",
   "metadata": {},
   "source": [
    "Note: a i j b is noncrossing as the arches connecting a and b, and i and j do not cross each other."
   ]
  },
  {
   "cell_type": "markdown",
   "metadata": {},
   "source": [
    "The catalan number, denoted $C_{n}$, gives the number of noncrossing partitions of an n-element set "
   ]
  },
  {
   "cell_type": "markdown",
   "metadata": {},
   "source": [
    "$C_{n} = \\frac{1}{n+1}\\binom{2n}{n}$"
   ]
  }
 ],
 "metadata": {
  "kernelspec": {
   "display_name": "Python 3",
   "language": "python",
   "name": "python3"
  },
  "language_info": {
   "codemirror_mode": {
    "name": "ipython",
    "version": 3
   },
   "file_extension": ".py",
   "mimetype": "text/x-python",
   "name": "python",
   "nbconvert_exporter": "python",
   "pygments_lexer": "ipython3",
   "version": "3.7.1"
  }
 },
 "nbformat": 4,
 "nbformat_minor": 2
}
