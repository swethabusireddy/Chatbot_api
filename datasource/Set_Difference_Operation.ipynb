{
  "nbformat": 4,
  "nbformat_minor": 0,
  "metadata": {
    "colab": {
      "name": "Set_Difference_Operation.ipynb",
      "version": "0.3.2",
      "provenance": [],
      "collapsed_sections": [],
      "toc_visible": true
    },
    "kernelspec": {
      "name": "python3",
      "display_name": "Python 3"
    }
  },
  "cells": [
    {
      "cell_type": "markdown",
      "metadata": {
        "id": "RjmhDbumoCmw",
        "colab_type": "text"
      },
      "source": [
        "# Set Difference Operation"
      ]
    },
    {
      "cell_type": "markdown",
      "metadata": {
        "id": "w8HGhbrCoHCF",
        "colab_type": "text"
      },
      "source": [
        "###  The difference of two sets $A$ and $B$, denoted as $A \\backslash B$, is the set of elements in $A$ but not in $B$.  The symbol, $A - B$ is also used to denote set difference.\n",
        "> ---\n",
        "> *Example:*\n",
        ">> ### Let $O = \\{0, 1, 2, 3, 4, 5, 6, 7\\}$ be the set of octal digits and $B = \\{0, 1 \\}$ be the set of binary digits.\n",
        ">>\n",
        ">>> ---\n",
        ">>> ### $O \\backslash B$ = {2, 3, 4 , 5, 6, 7}.\n",
        ">>>\n",
        ">>> There are the elements in $O$ but not in $B$.  The Venn diagram shown below illustrates the set difference:\n",
        ">>>\n",
        ">>> ![Difference Example Venn Diagram](https://)\n",
        ">>>\n",
        ">>> ---\n",
        ">> To compute $O$ \\ $B$, find elements that are common to $O$ and $B$, and remove them from $O$.\n",
        ">\n",
        "> ---\n",
        ">\n",
        ">> ### More formally,\n",
        ">> ### $A \\backslash B = \\{x | x \\in A$ and $ x \\notin B \\}$\n",
        ">\n",
        "> ---"
      ]
    },
    {
      "cell_type": "markdown",
      "metadata": {
        "id": "FWz7eMt089lT",
        "colab_type": "text"
      },
      "source": [
        "### Set Symmetric Difference\n",
        "> ---\n",
        "> The symmetric difference between two sets $A$ and $B$, denoted as $A \\bigtriangleup B$ is the union of the two sets without the elements that are common to $A$ and $B$.\n",
        ">\n",
        "> ---\n",
        "> *Example:*\n",
        ">> ### Let $A$ = {1, 2, 3, 4, 5} and $B$ = {4, 5, 6, 7, 8, 9}.\n",
        ">> ---\n",
        ">>### $A \\bigtriangleup B$ = {1, 2, 3, 6, 7, 8, 9} \n",
        ">> as illustrated by  Venn Diagram below:\n",
        ">> ![Symmetric Difference Example Venn Diagram](https://)\n",
        ">>\n",
        ">> ---\n",
        ">> $A \\bigtriangleup B$ is the union of elements that are unique to each of A and B.\n",
        ">\n",
        "> ---\n",
        ">\n",
        "> A generic Venn diagram for the symmetric difference of $A$ and $B$ is shown below:\n",
        ">\n",
        "> *The shaded area represensts $A \\bigtriangleup B$*\n",
        ">\n",
        ">![Generic Symmetric Difference Venn Diagram](https://)\n",
        ">\n",
        "> ---\n",
        ">  #### Formally,\n",
        ">\n",
        ">> $A \\bigtriangleup$ = $\\{x | (x \\in A$ and $x \\notin B)$ or $(x \\notin A$ and $x \\in B)\\}$\n",
        ">>\n",
        ">> or\n",
        ">>\n",
        ">> $A \\bigtriangleup B = (A-B) \\cup (B-A)$\n",
        ">>> #### Equivalently,\n",
        ">>>\n",
        ">>> $A \\bigtriangleup B = (A \\cup B) \\backslash (A \\cap B)$, where $\\bigtriangleup$ is expressed as the union of two sets, minus their intersection.\n",
        ">\n",
        "> ---\n",
        "> Lastly, $\\bigtriangleup$ can also be expressed in terms of the **exclusive OR** operation, which is denoted as **$XOR$** or **$\\oplus$.**\n",
        ">>\n",
        ">> ### $A \\bigtriangleup B = \\{ x| (x \\in A) \\oplus (x \\in B) \\}$\n",
        "> ---\n",
        "> $\\oplus$ is a logical operation which outputes true only when inputs differ as shown in the truth table below:\n",
        "> \n",
        "> $x$ | $y$ |  $x \\oplus y$\n",
        "> - | - | --\n",
        "> `F (False)` | `F (False)` | `F (False)`\n",
        "> `F (False)` | `T (True)` | `T (True)`\n",
        "> `T (True)` | `F (False)` | `T (True)`\n",
        "> `T (True)` | `T (True)` | `F (False)`\n",
        "> \n",
        "> ---\n",
        "> The symmetric difference, $\\bigtriangleup$, is communative and associative:\n",
        ">\n",
        ">> $A \\bigtriangleup B = B \\bigtriangleup A$\n",
        ">>\n",
        ">> $(A \\bigtriangleup B) \\bigtriangleup C = A \\bigtriangleup (B \\bigtriangleup C)$\n",
        ">\n",
        ">Also,\n",
        ">> $A \\bigtriangleup \\emptyset = A$\n",
        ">>\n",
        ">> $A \\bigtriangleup A = \\emptyset$\n",
        ">\n",
        ">---"
      ]
    }
  ]
}