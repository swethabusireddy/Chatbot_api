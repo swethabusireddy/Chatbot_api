{
 "cells": [
  {
   "cell_type": "markdown",
   "metadata": {},
   "source": [
    "[//]:#(LT:)\n",
    "\n",
    "[//]:#(ST:)\n",
    "\n",
    "[//]:#(KW:)"
   ]
  },
  {
   "cell_type": "markdown",
   "metadata": {},
   "source": [
    "### Geometric Distribution\n",
    "\n",
    "A geometric distribution represents the number of failures before you get a success. A trial is repeated until a success occurs. <br>\n",
    "\n",
    "The parameters of a geometric distribution are: <br>\n",
    "\n",
    "0 < p < 1 where p represents the success probability<br>\n",
    "\n",
    "x $\\in$ {1,2,3,...} where x represents the number of trials<br> <br>\n",
    "\n",
    "pmf: $f(x;p) = p(1-p)^{x-1}$; $x = 1, 2, ...$ <br> <br>\n",
    "\n",
    "cdf: $F(x;p) = \\begin{cases} \n",
    "      0 & x < 1 \\\\\n",
    "      1-(1-p)^{trunc(x)} & x \\geq 1\n",
    "    \\end{cases}$; where trunc removes an decimal places. <br> <br>\n",
    "\n",
    "mean: $ E[X] = \\frac{1}{p}$<br> <br>\n",
    "\n",
    "variance: $ Var[X] = \\frac{1-p}{p^2}$<br> <br>\n",
    "\n",
    "mgf: $M(t) = \\frac{pe^t}{1- (1-p)e^t}$<br> <br>\n",
    "\n",
    "\n",
    "\n",
    "Assumptions: <br>\n",
    "There are two possible outcomes, success or fail <br>\n",
    "The trials are independent <br>\n",
    "Probability of success is the same each trial<br> <br>\n",
    "\n",
    "\n",
    "Example: <br>\n",
    "\n",
    "An urn contains 4 green balls and 5 red. What is the probability that a red ball is drawn on the 8th draw?<br> \n",
    "After each pick, the ball is returned to the urn?<br> <br>\n",
    "\n",
    "Checking the assumptions we find:<br>\n",
    "Replacing the ball after each draw fulfills the assumption that the probability of success is the same for each trial. <br>\n",
    "Each draw has no effect on the outcome of the next draw, so the trials are independent. <br>\n",
    "There are two possible outcomes, success (drawing a red ball) and fail (not drawing red)<br>\n",
    "\n",
    "We need to first determine the probability of drawing a red ball. There are 9 balls in the urn, 5 of them are red.<br> \n",
    "P(red) = $\\frac{5}{9}$<br> \n",
    "\n",
    "Now we have, p = $\\frac{5}{9}$, k = 8<br> \n",
    "\n",
    "P(X = 8) = $(1-\\frac{5}{9})^{8-1}$ $\\frac{5}{9}$  $\\approx$ 0.0019 <br> \n",
    "\n",
    "There is less than a 1 percent chance that the 8th draw is a red ball. In other words, there is a less than 1 percent chance that it will take 7 fails before a success of drawing a red ball. Recall, that the experiment ends once a success has occurred. <br> "
   ]
  },
  {
   "cell_type": "code",
   "execution_count": null,
   "metadata": {},
   "outputs": [],
   "source": []
  }
 ],
 "metadata": {
  "celltoolbar": "Edit Metadata",
  "kernelspec": {
   "display_name": "Python 3",
   "language": "python",
   "name": "python3"
  },
  "language_info": {
   "codemirror_mode": {
    "name": "ipython",
    "version": 3
   },
   "file_extension": ".py",
   "mimetype": "text/x-python",
   "name": "python",
   "nbconvert_exporter": "python",
   "pygments_lexer": "ipython3",
   "version": "3.7.3"
  }
 },
 "nbformat": 4,
 "nbformat_minor": 2
}
