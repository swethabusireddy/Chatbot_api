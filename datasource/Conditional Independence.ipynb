{
 "cells": [
  {
   "cell_type": "markdown",
   "metadata": {},
   "source": [
    "[//]: # (LT:)\n",
    "\n",
    "[//]: # (ST: Conditional Independence)\n",
    "\n",
    "[//]: # (KW:)"
   ]
  },
  {
   "cell_type": "markdown",
   "metadata": {},
   "source": [
    "### Conditional Independence\n",
    "\n",
    "Two events A, and B, are conditionally independent given an event C where P(C) > 0 if, <br>\n",
    "\n",
    "P(A$\\cap$B|C) = P(A|C) $\\cdot$ P(B|C) <br>\n",
    "\n",
    "If P(B > 0), we condition on C to obtain: <br>\n",
    "\n",
    "P(A|B,C) = $\\frac{P(A\\cap B |C)}{P(B | C)}$ <br>\n",
    "\n",
    "if P(B|C), P(C) $\\neq$ 0. <br>\n",
    "\n",
    "If A and B are conditionally independent given C, then <br>\n",
    "\n",
    "P(A|B,C) = $\\frac{P(A \\cap B |C)}{P(B|C)}$ <br>\n",
    "\n",
    "= $\\frac{P(A|C) \\cdot P(B|C)}{P(B|C)}$ <br>\n",
    "\n",
    "= P(A|C) <br>\n",
    "\n",
    "In other words, events A and B are conditionally independent if given an event C, knowing that event A has occurred has no impact on the likelihood of event B occurring. As well as, knowing that event B has occured has no impact on the likelihood of event A occurring.  <br> <br>\n",
    "\n",
    "Example: <br>\n",
    "\n",
    "Let A be the event that a 1 is rolled on a six-sided die. <br>\n",
    "\n",
    "$P(A) = \\frac{1}{6}$ <br>\n",
    "\n",
    "Let B be the event that on the second roll a 1 is rolled on a six-sided die. <br>\n",
    "\n",
    "$P(B) = \\frac{1}{6}$ <br>\n",
    "\n",
    "Let C be the event that from a box containing 2 dice, one biased and one unbiased, that the unbiased die was chosen.<br> <br>\n",
    "$P(C) = \\frac{1}{2}$ <br>\n",
    "\n",
    "If the event C occurring is unknown, then A and B are not independent events. Suppose event A occurred, we have then obtained evidence leading us to believe that the die is biased, and thus increasing the probability that the second roll will result in a 1 (event B occurring). <br>\n",
    "\n",
    "When it is known that event C has occurred (the die is unbiased), events A and B are now known to be independent events. Their independence is conditioned on C, thus, they are conditionally independent events. <br>\n",
    "\n",
    "\n"
   ]
  },
  {
   "cell_type": "code",
   "execution_count": null,
   "metadata": {},
   "outputs": [],
   "source": []
  }
 ],
 "metadata": {
  "celltoolbar": "Edit Metadata",
  "kernelspec": {
   "display_name": "Python 3",
   "language": "python",
   "name": "python3"
  },
  "language_info": {
   "codemirror_mode": {
    "name": "ipython",
    "version": 3
   },
   "file_extension": ".py",
   "mimetype": "text/x-python",
   "name": "python",
   "nbconvert_exporter": "python",
   "pygments_lexer": "ipython3",
   "version": "3.7.3"
  }
 },
 "nbformat": 4,
 "nbformat_minor": 2
}
