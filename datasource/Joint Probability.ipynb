{
 "cells": [
  {
   "cell_type": "markdown",
   "metadata": {},
   "source": [
    "[//]:#(LT:)\n",
    "\n",
    "[//]:#(ST:)\n",
    "\n",
    "[//]:#(KW:)"
   ]
  },
  {
   "cell_type": "markdown",
   "metadata": {},
   "source": [
    "### Joint Probability Mass Function (for discrete RV)\n",
    "\n",
    "The joint distribution of two random variables, tells us the probability mass on each possible pair of values.<br>\n",
    "\n",
    "Definition: <br>\n",
    "\n",
    "Let X and Y be discrete random variables. The joint probability mass function p(x,y) is defined by:<br>\n",
    " \n",
    "p(x,y) = P(X = x and Y = y)<br>\n",
    "\n",
    "where p(x,y) $\\geq$ 0 and $\\sum_x \\sum_y p(x,y) = 1$<br>\n",
    "\n",
    "\n"
   ]
  },
  {
   "cell_type": "markdown",
   "metadata": {},
   "source": [
    "### Marginal probability mass function (for discrete RV)\n",
    "\n",
    "The distribution of one variable can be determined once the joint pmf is known. <br>\n",
    "\n",
    "The marginal pmf of X is given by:<br>\n",
    "\n",
    "$p_x (x) = \\sum_{y: p(x,y) > 0} p(x,y)$; for every possible value of x<br>\n",
    "\n",
    "The marginal pmf of Y is given by: <br>\n",
    "\n",
    "$p_y (y) = \\sum_{x: p(x,y) > 0} p(x,y)$; for every possible value of y<br>"
   ]
  },
  {
   "cell_type": "markdown",
   "metadata": {},
   "source": [
    "### Joint Probability Density Function (for continuous Random Variables)\n",
    "\n",
    "The joint probability density function is defined by: <br>\n",
    "\n",
    "P[(X,Y) $\\in$ A] = $\\int_A \\int f(x,y) dx dy$<br>\n",
    "\n",
    "where X and Y are continuous random variables, f(x,y) $\\geq$ 0, and $\\int_{-\\infty}^{\\infty}\\int_{-\\infty}^{\\infty}f(x,y) dx dy = 1$<br>\n"
   ]
  },
  {
   "cell_type": "markdown",
   "metadata": {},
   "source": [
    "### Marginal Probability Density Function (for continuous random variables)\n",
    "\n",
    "The pdf of one random variable can be determined when the joint pdf is known. <br>\n",
    "\n",
    "The marginal pdf of X is given by: <br>\n",
    "\n",
    "$f_x (x) = \\int_{-\\infty}^{\\infty} f(x,y) dy$ ;  $-\\infty < x < \\infty$<br>\n",
    "\n",
    "The margnial pdf of Y is given by:<br>\n",
    "\n",
    "$f_y (y) = \\int_{-\\infty}^{\\infty} f(x,y) dx$ ;  $-\\infty < y < \\infty$<br>\n",
    "\n"
   ]
  },
  {
   "cell_type": "markdown",
   "metadata": {},
   "source": [
    "### Independence\n",
    "\n",
    "Two random variables are independent if<br>\n",
    "\n",
    "p(x,y) = $p_x(x) \\cdot p_y(y)$, where X and Y are discrete<br>\n",
    "\n",
    "f(x,y) = $f_x(x) \\cdot f_y(y)$, where X and Y are continuous<br>"
   ]
  },
  {
   "cell_type": "markdown",
   "metadata": {},
   "source": [
    "### Expected Value of joint distributions\n",
    "\n",
    "Let X and Y be jointly distributed random variables with pmf p(x,y) or pdf f(x,y). Then the expected value of a function h(X,Y), denoted E[h(X,Y)] is given by:<br> \n",
    "\n",
    "$E[h(X,Y)]$ =  $\\left\\{\n",
    "\\begin{array}{ll}\n",
    "      \\sum_x \\sum_y{h(x,y) \\cdot p(x,y)} & \\textrm{if X and Y are discrete} \\\\\n",
    "      \\int_{-\\infty}^{\\infty} \\int_{-\\infty}^{\\infty} h(x,y) \\cdot f(x,y) dx dy & \\textrm{if X and Y are continuous} \\\\\n",
    "\\end{array} \n",
    "\\right. $\n",
    "\n",
    "\n",
    "\n"
   ]
  }
 ],
 "metadata": {
  "celltoolbar": "Edit Metadata",
  "kernelspec": {
   "display_name": "Python 3",
   "language": "python",
   "name": "python3"
  },
  "language_info": {
   "codemirror_mode": {
    "name": "ipython",
    "version": 3
   },
   "file_extension": ".py",
   "mimetype": "text/x-python",
   "name": "python",
   "nbconvert_exporter": "python",
   "pygments_lexer": "ipython3",
   "version": "3.7.3"
  }
 },
 "nbformat": 4,
 "nbformat_minor": 2
}
