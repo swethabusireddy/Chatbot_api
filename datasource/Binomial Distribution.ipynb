{
 "cells": [
  {
   "cell_type": "markdown",
   "metadata": {},
   "source": [
    "[//]:# (LT:)\n",
    "\n",
    "[//]:# (ST: Binomial Distribution)\n",
    "\n",
    "[//]:# (KW:)"
   ]
  },
  {
   "cell_type": "markdown",
   "metadata": {},
   "source": [
    "### Binomial Distribution\n",
    "\n",
    "The parameters of the binomial distribution as n and p, where n = number of trials and p = success probability for each trial. The number of successes observed is denoted with k. <br>\n",
    "\n",
    "probability mass function (pmf): <br>\n",
    "\n",
    "B(x;n,p) = $n \\choose k$ $p^k (1-p)^{n-k}$<br>\n",
    "\n",
    "mean: $np$<br>\n",
    "\n",
    "median: $np$<br>\n",
    "\n",
    "variance: $np(1-p)$<br>\n",
    "\n",
    "M.G.F: $M(t) = (pe^t + 1 - p)^n$<br> <br>\n",
    "\n",
    "Example: Rolling a 6 sided die 20 times, what is the probability of rolling a 1 seven times?<br>\n",
    "\n",
    "n = number of trials = 20 <br>\n",
    "k = number of successes = 7 <br>\n",
    "p = probability of rolling a 1 = $\\frac{1}{6}$<br>\n",
    "\n",
    "B(x; 20, $\\frac{1}{6}$) = $20 \\choose 7$ $\\frac{1}{6}^7$ $(1-\\frac{1}{6})^{20-7}$ $\\approx$ 0.02588\n",
    "\n",
    "There is approximately a 2.6% chance of rolling a 1 seven times. "
   ]
  }
 ],
 "metadata": {
  "celltoolbar": "Edit Metadata",
  "kernelspec": {
   "display_name": "Python 3",
   "language": "python",
   "name": "python3"
  },
  "language_info": {
   "codemirror_mode": {
    "name": "ipython",
    "version": 3
   },
   "file_extension": ".py",
   "mimetype": "text/x-python",
   "name": "python",
   "nbconvert_exporter": "python",
   "pygments_lexer": "ipython3",
   "version": "3.7.3"
  }
 },
 "nbformat": 4,
 "nbformat_minor": 2
}
