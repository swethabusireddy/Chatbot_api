{
 "cells": [
  {
   "cell_type": "markdown",
   "metadata": {},
   "source": [
    "[//]: # (LT:Expected Value of Discrete and Continuous Random Variables)\n",
    "\n",
    "[//]: # (ST:)\n",
    "\n",
    "[//]: # (KW:)"
   ]
  },
  {
   "cell_type": "markdown",
   "metadata": {},
   "source": [
    "### Expected Value of a discrete random variable\n",
    "\n",
    "If X is a discrete random variable, the expected value of X, E(X), is defined: <br>\n",
    "\n",
    "E(X) = $\\sum_{x} x P(x) = \\sum x p_x(x)$ <br>\n",
    "\n",
    "is a weighted average, where $p_x$ is the probability mass function. <br> <br>\n",
    "\n",
    "Example: <br>\n",
    "\n",
    "Suppose you have a four sided die with two sides marked with a 1, one side marked with a two, and one marked with a 3. What is the expected sum of the rolls if the die were rolled n times? <br>\n",
    "\n",
    "The PMF is as follows: \n",
    "\n",
    "![ExpectedValue.png](attachment:ExpectedValue.png)\n",
    "\n",
    "\n",
    "Thus E(X) = $\\sum x p_x(x)$ = $(1 \\cdot \\frac{1}{4}) + (2 \\cdot \\frac{1}{4}) + (3 \\cdot \\frac{1}{4})$ = 1.75\n",
    "\n",
    "\n",
    "We can expect an average of 1.75 when the die is rolled n times. \n"
   ]
  },
  {
   "cell_type": "markdown",
   "metadata": {},
   "source": [
    "### Expected Value Continuous Distribution\n",
    "\n",
    "The expected value of a continuous random variable X is: <br>\n",
    "\n",
    "$\\mu_x = E[X] = \\int_{-\\infty}^{\\infty} x \\cdot f(x) dx$<br>\n",
    "\n",
    "$E[X]$ is a weighted integral of the values of $x$ of $X$. <br>\n",
    "\n",
    "The weights are the probabilities $f(x)dx$ <br> <br>\n",
    "\n",
    "Example: <br>\n",
    "\n",
    "Let $X ~ U(0,1)$ Find $E[X].$<br>\n",
    "\n",
    "$X$ is continuous along the interval $[0,1]$ thus $X$ is a continuous random variable and density $f(x) = 1.$ <br>\n",
    "\n",
    "$E[X] = \\int_{0}^{1} x f(x) dx $ <br>\n",
    "\n",
    "$ = \\int_{0}^{1} x \\cdot 1 dx$ <br>\n",
    "\n",
    "$ = \\frac{x^2}{2} {\\big|_{0}^{1}} = \\frac{1}{2}$ <br>\n",
    "\n",
    "The expected value of a uniform continuous random variable, X, where $0\\leq x \\leq 1$, is $\\frac{1}{2}$.\n",
    "\n",
    "\n",
    "\n"
   ]
  },
  {
   "cell_type": "code",
   "execution_count": null,
   "metadata": {},
   "outputs": [],
   "source": []
  }
 ],
 "metadata": {
  "celltoolbar": "Edit Metadata",
  "kernelspec": {
   "display_name": "Python 3",
   "language": "python",
   "name": "python3"
  },
  "language_info": {
   "codemirror_mode": {
    "name": "ipython",
    "version": 3
   },
   "file_extension": ".py",
   "mimetype": "text/x-python",
   "name": "python",
   "nbconvert_exporter": "python",
   "pygments_lexer": "ipython3",
   "version": "3.7.3"
  }
 },
 "nbformat": 4,
 "nbformat_minor": 2
}
