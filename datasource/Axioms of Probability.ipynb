{
 "cells": [
  {
   "cell_type": "markdown",
   "metadata": {},
   "source": [
    "[//]: # (LT: )\n",
    "\n",
    "[//]: # (ST: Axioms of Probability)\n",
    "\n",
    "[//]: # (KW:Probability of an event)\n",
    "\n",
    "[//]: # (KW:Probability of disjoint events)\n",
    "\n",
    "[//]: # (KW:Probability of the Sample Space)"
   ]
  },
  {
   "cell_type": "markdown",
   "metadata": {},
   "source": [
    "### Axioms of Probability\n",
    "\n",
    "Axioms of Probability: \n",
    "\n",
    "$\\bullet \\textrm{ For any event } A, P(A) \\geq 0; \\textrm{ where } A \\subset S$ <br>\n",
    "\n",
    "$\\bullet \\textrm{ Probability of the sample space S is } P(S) = 1$ <br>\n",
    "\n",
    "$\\bullet \\textrm{ If} A_1, A_2, ... , A_n \\textrm{ are disjoint events then, }P( A_1 \\cup A_2, \\cup... \\cup A_n) = P(A_1) + P(A_2) + ... + P(A_n)$ <br> <br>\n",
    "\n",
    "$P(A) \\geq 0$, means that the probability of an event A occurring must be positive. P(A) = 0 means that event A will not happen. <br>\n",
    "\n",
    "$P(S) = 1$ means that the probability of the sample space is equal to one. Since S is the set of all possible outcomes of a trial, then the probability of S happening is 100%. <br>\n",
    "\n",
    "Lastly, if there are disjoint events in S, then the probability of $A_1$ or $A_2$ or ... $A_n$ happening is the sum of the individual probabilities of each disjoint event.  <br> <br>\n",
    "\n",
    "\n",
    "Example: <br>\n",
    "\n",
    "Suppose you throw a dart at a map to determine which continent to travel to next. You have a 30% chance of landing on Asia, 25% Africa, 15% North America, 10% South America, 10% Antartica, 5% Europe and 5% Australia. You plan to visit only one continent, not including the continent that you are traveling from and back to on this trip. What is the probability that you will vacation in Africa, Asia, or Europe?<br> <br>\n",
    "\n",
    "Since you are vacationing in just one continent, each continent is a disjoint event. The probability of visiting Africa or Asia or Europe is: <br>\n",
    "\n",
    "$\\begin{align}P(\\textrm{Africa} \\cup \\textrm{Asia} \\cup \\textrm {Europe}) &= P(\\textrm{Africa}) + P(\\textrm{Asia}) + P(\\textrm {Europe}) \\\\\n",
    "&= .30 + .25 + .05 \\\\\n",
    "&= .60 \n",
    "\\end{align}$ <br>\n",
    "\n",
    "The probability that you will travel to Africa, Asia, or Europe next is 60%. <br>\n",
    "\n",
    "\n",
    "\n",
    "\n",
    "\n",
    "\n"
   ]
  },
  {
   "cell_type": "code",
   "execution_count": null,
   "metadata": {},
   "outputs": [],
   "source": []
  }
 ],
 "metadata": {
  "celltoolbar": "Edit Metadata",
  "kernelspec": {
   "display_name": "Python 3",
   "language": "python",
   "name": "python3"
  },
  "language_info": {
   "codemirror_mode": {
    "name": "ipython",
    "version": 3
   },
   "file_extension": ".py",
   "mimetype": "text/x-python",
   "name": "python",
   "nbconvert_exporter": "python",
   "pygments_lexer": "ipython3",
   "version": "3.7.3"
  }
 },
 "nbformat": 4,
 "nbformat_minor": 2
}
