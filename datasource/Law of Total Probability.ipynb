{
 "cells": [
  {
   "cell_type": "markdown",
   "metadata": {},
   "source": [
    "[//]: # (LT:)\n",
    "\n",
    "[//]: # (ST:)\n",
    "\n",
    "[//]: # (KW:)"
   ]
  },
  {
   "cell_type": "markdown",
   "metadata": {},
   "source": [
    "### Law of Total Probability\n",
    "\n",
    "Suppose $A_1$,$A_2$,...,$A_m$ are disjoint events such that $A_1$ $\\cup$ $A_2$ $\\cup$ ... $\\cup$ $A_m$ = U (universal set)<br>\n",
    "\n",
    "The probability of an event B can be expressed as <br>\n",
    "\n",
    "P(B) = P(B|$A_1$) $\\cdot$ P($A_1$) + P(B|$A_2$) $\\cdot$ P($A_2$) + ... + P(B|$A_m$) $\\cdot$ P(B|$A_m$)<br>\n",
    "= $\\sum_i P(B|A_i)P(A_i)$ <br> <br>\n",
    "\n",
    "Proof: <br>\n",
    "\n",
    "Let $A_1$,$A_2$,...,$A_m$ be a partition of the sample space, S, then, <br>\n",
    "\n",
    "$S = \\bigcup_i A_i$ <br>\n",
    "\n",
    "$B = B \\cap S$ <br> \n",
    "\n",
    "$ = B \\cap (\\bigcup_i A_i)$ <br>\n",
    "\n",
    "$ = \\bigcup_i(B \\cap A_i)$ ; by the distributive law <br>\n",
    "\n",
    "$\\implies P(B) = P(\\bigcup_i(B \\cap A_i) = \\sum_i P(B \\cap A_i) = \\sum_i P(B|A_i)P(A_i)$ <br> <br>\n",
    "\n",
    "\n",
    "Example: <br>\n",
    "\n",
    "Suppose there are three bags, each containing 10 marbles. <br>\n",
    "\n",
    "Bag 1: 4 green marbles, 6 blue <br>\n",
    "\n",
    "Bag 2: 7 green marbles, 3 blue <br>\n",
    "\n",
    "Bag 3: 2 green marbles, 8 blue <br>\n",
    "\n",
    "One bag is randomly picked, and then one marble is randomly drawn from the bag. What is the probability of drawing a green marble? <br> <br>\n",
    "\n",
    "Let G represent a green marble and $B_1, B_2, B_3$ represent the bag picked. Then, <br>\n",
    "\n",
    "$P(B_1) = P(B_2) = P(B_3) = \\frac{1}{3}$ and, <br>\n",
    "\n",
    "$P(G|B_1) = \\frac{4}{10}$ <br>\n",
    "\n",
    "$P(G|B_2) = \\frac{7}{10}$ <br> \n",
    "\n",
    "$P(G|B_3) = \\frac{2}{10}$ <br>\n",
    "\n",
    "Thus, <br> <br>\n",
    "\n",
    "$P(G) = P(G|B_1)P(B_1) + P(G|B_2)P(B_2) + P(G|B_3)P(B_3)$ <br>\n",
    "\n",
    "$ = (\\frac{4}{10})\\frac{1}{3} + (\\frac{7}{10}) \\frac{1}{3} + (\\frac{2}{10}) \\frac{1}{3}$ <br>\n",
    "\n",
    "$ = \\frac{13}{30} \\approx .43$ <br>\n",
    "\n",
    "The probability of drawing a green marble is approximately 43%. <br>\n",
    "\n",
    "\n",
    "\n"
   ]
  },
  {
   "cell_type": "code",
   "execution_count": null,
   "metadata": {},
   "outputs": [],
   "source": []
  }
 ],
 "metadata": {
  "celltoolbar": "Edit Metadata",
  "kernelspec": {
   "display_name": "Python 3",
   "language": "python",
   "name": "python3"
  },
  "language_info": {
   "codemirror_mode": {
    "name": "ipython",
    "version": 3
   },
   "file_extension": ".py",
   "mimetype": "text/x-python",
   "name": "python",
   "nbconvert_exporter": "python",
   "pygments_lexer": "ipython3",
   "version": "3.7.3"
  }
 },
 "nbformat": 4,
 "nbformat_minor": 2
}
