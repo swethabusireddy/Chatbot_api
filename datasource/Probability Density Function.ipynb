{
 "cells": [
  {
   "cell_type": "markdown",
   "metadata": {},
   "source": [
    "[//]: # (LT:)\n",
    "\n",
    "[//]: # (ST:)\n",
    "\n",
    "[//]: # (KW:)"
   ]
  },
  {
   "cell_type": "markdown",
   "metadata": {},
   "source": [
    "### Probability Density Function\n",
    "\n",
    "The probability density function describes the probability distribution of a continuous random variable. We denote probability mass functions and probability density functions by a lowercase f. A capital F is used to denote the cumulative distribution function of a random variable. <br>\n",
    "\n",
    "The integral of the pdf across a given interval, gives the probability that the continuous random variable, $X$, where $X \\in \\mathbb{R}$, lies in that region. <br> <br>\n",
    "\n",
    "If $X$ is a continuous random variable, and the interval $I = [a,b]$, the the probability that $a < X < b$ is: <br>\n",
    "\n",
    "$P(X \\in I) = \\int_I f(x) dx = \\int_a^b f(x)dx$ <br> <br> \n",
    "\n",
    "Properties: <br>\n",
    "\n",
    "If $f(x)$ is a probability density function for a continuous random variable, $X$, then, <br>\n",
    "\n",
    "$\\bullet  F(x) = P(X \\leq x) = \\int_{-\\infty}^x f(t)dt$ <br> <br>\n",
    "\n",
    "$\\bullet f(x) \\geq 0 \\textrm{ for any value } x$ <br> <br>\n",
    "\n",
    "$\\bullet \\int_{-\\infty}^{\\infty} f(t)dt = 1$ <br> <br>\n",
    "\n",
    "Example: <br>  \n",
    "\n",
    "Suppose that a random variable $X$ has the following pdf. <br>\n",
    "\n",
    "$f(x) = \\begin{cases} \n",
    "      \\frac{1}{4}x & x \\in [1,4] \\\\\n",
    "       0 & otherwise \n",
    "   \\end{cases}$ <br> <br>\n",
    "If we want to determine the probability that $x$ lies in the interval [1,2], we simply integrate the pdf on the interval [1,2] to find: <br>\n",
    "\n",
    "$\\begin{align}\n",
    "    P(X \\in [1,2])  &= \\int_1^2 \\frac{1}{4}x dx \\\\ \\\\\n",
    "     &= \\frac{x^2}{8} \\bigg|_1^2 \\\\ \\\\\n",
    "     &= \\frac{4}{8} - \\frac {1}{8} \\\\ \\\\ \n",
    "     &= \\frac{3}{8}\n",
    "\\end{align}$ <br>\n",
    "\n",
    "The probability that $x$ falls into the interval [1,2] is $\\frac{3}{8}$.<br> <br>\n",
    "\n",
    "The probability density function does not give the probability that $x$ is equal to any given value. For any continuous random variable, $X$, <br>\n",
    "\n",
    "$P(X = x) = 0$ <br>\n",
    "\n",
    "The probability that $X$ equals a given value is always zero. The number values that $X$ can take on is uncountable, thus there is zero probability on any given number. <br>"
   ]
  },
  {
   "cell_type": "code",
   "execution_count": null,
   "metadata": {},
   "outputs": [],
   "source": []
  }
 ],
 "metadata": {
  "celltoolbar": "Edit Metadata",
  "kernelspec": {
   "display_name": "Python 3",
   "language": "python",
   "name": "python3"
  },
  "language_info": {
   "codemirror_mode": {
    "name": "ipython",
    "version": 3
   },
   "file_extension": ".py",
   "mimetype": "text/x-python",
   "name": "python",
   "nbconvert_exporter": "python",
   "pygments_lexer": "ipython3",
   "version": "3.7.3"
  }
 },
 "nbformat": 4,
 "nbformat_minor": 2
}
