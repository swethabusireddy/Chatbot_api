{
 "cells": [
  {
   "cell_type": "markdown",
   "metadata": {},
   "source": [
    "# Set Union Operation "
   ]
  },
  {
   "cell_type": "markdown",
   "metadata": {},
   "source": [
    "The union of two sets is a set which contains elements from both the sets.<br>\n",
    "The union of two sets A and B is denoted by $A \\cup B$.<br>\n",
    "Example:<br>\n",
    "set A = {1,2,3,4} and B = {3,4,5,6} <br>\n",
    "$A \\cup B$ = {1,2,3,4,5,6} <br>\n",
    "Note: By definition, sets do not contain duplicates. If an element appears in both sets, we include it only once in the result.<br>\n",
    "More formally,<br>\n",
    "$A \\cup B = \\left \\{x| x \\in A \\; or \\; x \\in B \\right \\}$ <br>\n",
    "Alternatively,<br>\n",
    "$x \\in A \\cup B \\Leftrightarrow x \\in A \\; or \\; x \\in B$ <br>\n",
    "The above statement says that an element is in the union if and only if the element belongs to A, B, or both.<br>\n",
    "The symbol $\\Leftrightarrow$ is biconditional logical connective between statements and is read if and only if (iff for short)<br>\n",
    "$\\Leftrightarrow$ says that what is on the left hand side implies the right hand side and vice versa.<br>\n",
    "Example:<br>\n",
    "$\\varnothing$ is the null\\empty set. <br>\n",
    "let A = {1,2,3} <br>\n",
    "what is $A \\cup \\varnothing$ ? <br>\n",
    "Since $\\varnothing$ has no elements, its union with A is A itself.<br>\n",
    "$A \\cup \\varnothing = A$"
   ]
  },
  {
   "cell_type": "markdown",
   "metadata": {},
   "source": [
    "# Venn diagram for set union"
   ]
  },
  {
   "cell_type": "markdown",
   "metadata": {},
   "source": [
    "Figure below shows the Venn diagram for union of two sets A and B. The union is the shaded area."
   ]
  },
  {
   "cell_type": "markdown",
   "metadata": {},
   "source": [
    "<img src=\"img/F10.png\" alt=\"Union of A and B\" style=\"width:333px\">"
   ]
  }
 ],
 "metadata": {
  "kernelspec": {
   "display_name": "Python 3",
   "language": "python",
   "name": "python3"
  },
  "language_info": {
   "codemirror_mode": {
    "name": "ipython",
    "version": 3
   },
   "file_extension": ".py",
   "mimetype": "text/x-python",
   "name": "python",
   "nbconvert_exporter": "python",
   "pygments_lexer": "ipython3",
   "version": "3.7.1"
  }
 },
 "nbformat": 4,
 "nbformat_minor": 2
}
