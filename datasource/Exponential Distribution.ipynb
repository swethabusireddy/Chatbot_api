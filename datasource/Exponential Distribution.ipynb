{
 "cells": [
  {
   "cell_type": "markdown",
   "metadata": {},
   "source": [
    "[//]: # (Long-Title: Exponential Distribution; Relation to Poisson, PDF, CDF, Expected Value, Variance, and MGF)\n",
    "\n",
    "[//]: # (ST: Exponential Distribution)\n",
    "\n",
    "[//]: # (Keyword: Exponential Distribution)\n",
    "\n",
    "[//]: # (Keyword: Exponential PDF)\n",
    "\n",
    "[//]: # (Keyword: Exponential Probability Density Function)\n",
    "\n",
    "[//]: # (Keyword: Exponential Cumulative Density Function)\n",
    "\n",
    "[//]: # (Keyword: Exponential CDF)\n",
    "\n",
    "[//]: # (Keyword: Exponential Moment Generating Function)\n",
    "\n",
    "[//]: # (Keyword: Exponential MGF)\n",
    "\n",
    "[//]: # (Keyword: Exponential Expected Value)\n",
    "\n",
    "[//]: # (Keyword: Exponential Variance)"
   ]
  },
  {
   "cell_type": "markdown",
   "metadata": {},
   "source": [
    "### Exponential Distribution\n",
    "\n",
    "The exponential distribution can be used as a model for the distribution of times between the occurrence of successive events. Recall that the Poisson distribution is used to model the number of events in an interval of time, where the parameter $\\alpha$ is the expected number of events occurring in 1 unit of time. The distribution of elapsed time between the occurrence of two successive events is exponential. \n",
    "\n",
    "pdf: $f(x;\\lambda) = \\lambda e^{-\\lambda x} \\hspace{1cm}\\textrm{ for }x \\geq 0\\textrm{ and where } \\lambda \\textrm{ is a scale parameter and } \\lambda > 0$. <br> <br>\n",
    "\n",
    "cdf: $F(x;\\lambda) = P(X \\leq x) =  \\left\\{\n",
    "\\begin{array}{ll}\n",
    "      0 & x < 0 \\\\\n",
    "      1- e^{-{\\lambda x}}& x \\geq 0 \\\\\n",
    "\\end{array} \n",
    "\\right. $ <br> <br>\n",
    "\n",
    "mean: $E[X] = \\frac{1}{\\lambda}$ <br> <br>\n",
    "\n",
    "variance: $V[X] = \\frac{1}{\\lambda ^2}$ <br> <br>\n",
    "\n",
    "mgf: $M(t) = \\frac{1}{1-\\lambda t} \\hspace{1cm}t < \\frac{1}{\\lambda}$ <br> <br>\n",
    "\n",
    "Example: <br>\n",
    "\n",
    "Suppose a call center receives calls at a rate of 6 calls per hour. The number of minutes that pass between successive calls has an exponential distribution with $\\lambda$ = 6. What is the probability that more than 10 minutes pass between calls? What is the expected time to elapse between calls? <br> <br>\n",
    "We need to first convert X = time elapsed between successive calls from minutes to hours. Ten minutes of an hour is $\\frac{1}{6}$ of an hour. <br>\n",
    "\n",
    "$\\begin{align}P(X > \\frac{1}{6}) &= 1 - P(X \\leq \\frac{1}{6}) \\hspace{1cm} \\textrm{ recall the cdf is } P(X \\leq x) \\textrm{ thus }P(X > x) \\textrm{ is }  1 - P(X \\leq x) \\\\ \\\\\n",
    "&= 1 - (1 - e^{-6(\\frac{1}{6})})\\\\ \\\\\n",
    "&= e ^{-1} \\\\ \\\\\n",
    "&\\approx 0.368\n",
    "\\end{align}$ <br> <br>\n",
    "\n",
    "The probability that two successive calls occur more than ten minutes apart is approximately 37%. <br> <br>\n",
    "\n",
    "The expected number of minutes in between calls is, <br>\n",
    "\n",
    "$E[X] = \\frac{1}{6}$ of an hour. We can expect a call to occur every ten minutes.  <br>\n",
    "\n",
    "\n"
   ]
  },
  {
   "cell_type": "code",
   "execution_count": null,
   "metadata": {},
   "outputs": [],
   "source": []
  }
 ],
 "metadata": {
  "celltoolbar": "Edit Metadata",
  "kernelspec": {
   "display_name": "Python 3",
   "language": "python",
   "name": "python3"
  },
  "language_info": {
   "codemirror_mode": {
    "name": "ipython",
    "version": 3
   },
   "file_extension": ".py",
   "mimetype": "text/x-python",
   "name": "python",
   "nbconvert_exporter": "python",
   "pygments_lexer": "ipython3",
   "version": "3.7.3"
  }
 },
 "nbformat": 4,
 "nbformat_minor": 2
}
