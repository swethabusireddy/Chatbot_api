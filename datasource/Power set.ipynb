{
 "cells": [
  {
   "cell_type": "markdown",
   "metadata": {},
   "source": [
    "# Power Set"
   ]
  },
  {
   "cell_type": "markdown",
   "metadata": {},
   "source": [
    "The power set is a set of all subsets of a set. It includes the null set $\\varnothing$ and also the set itself."
   ]
  },
  {
   "cell_type": "markdown",
   "metadata": {},
   "source": [
    "The power set of a set A is denoted by $\\mathbb{P}$(A)."
   ]
  },
  {
   "cell_type": "markdown",
   "metadata": {},
   "source": [
    "Example:\n"
   ]
  },
  {
   "cell_type": "markdown",
   "metadata": {},
   "source": [
    "Let B = {0,1}, the set of binary digits. "
   ]
  },
  {
   "cell_type": "markdown",
   "metadata": {},
   "source": [
    "Its power set $\\mathbb{P}$(B) is all possible subsets including the null set $\\varnothing$ and B itself."
   ]
  },
  {
   "cell_type": "markdown",
   "metadata": {},
   "source": [
    "$\\mathbb{P}$(B) = {$\\varnothing$,{0},{1},{0,1}}"
   ]
  },
  {
   "cell_type": "markdown",
   "metadata": {},
   "source": [
    "Note that the elements of the power set are themselves sets. Therefore, The power set is a set of sets."
   ]
  },
  {
   "cell_type": "markdown",
   "metadata": {},
   "source": [
    "Example:"
   ]
  },
  {
   "cell_type": "markdown",
   "metadata": {},
   "source": [
    "Let A = {a,b,c} be a set. Its power set is all possible subsets including the null set $\\varnothing$ and A itself."
   ]
  },
  {
   "cell_type": "markdown",
   "metadata": {},
   "source": [
    "$\\mathbb{P}$(A) = {$\\varnothing$,{a},{b},{c},{a,b},{a,c},{b,c},{a,b,c}}"
   ]
  },
  {
   "cell_type": "markdown",
   "metadata": {},
   "source": [
    "We systematically enumerate subsets of cardinality 0,1,2 and 3. Recall that cardinality of a set is the number of elements in the set."
   ]
  },
  {
   "cell_type": "markdown",
   "metadata": {},
   "source": [
    "Theorem: Let A be a finite set with |A|=n. Then, the number of sets in its power set $\\mathbb{P}$(A) is $2^{n}$ ."
   ]
  },
  {
   "cell_type": "markdown",
   "metadata": {},
   "source": [
    "This can be powered by induction on the number of elements of A."
   ]
  },
  {
   "cell_type": "markdown",
   "metadata": {},
   "source": [
    "<b>Base case: </b>\n"
   ]
  },
  {
   "cell_type": "markdown",
   "metadata": {},
   "source": [
    "When n=0 and |A|=o clearly, A = $\\varnothing$"
   ]
  },
  {
   "cell_type": "markdown",
   "metadata": {},
   "source": [
    "According to the induction hypothesis, |$\\mathbb{P}$(A)| = $2^{n}$ = $2^{0}$ = 1"
   ]
  },
  {
   "cell_type": "markdown",
   "metadata": {},
   "source": [
    "Base case is satisfied.\n"
   ]
  },
  {
   "cell_type": "markdown",
   "metadata": {},
   "source": [
    "Next consider the induction step and let |A|=n."
   ]
  },
  {
   "cell_type": "markdown",
   "metadata": {},
   "source": [
    "By the induction hypothesis,|$\\mathbb{P}$(A)|=$2^{n}$"
   ]
  },
  {
   "cell_type": "markdown",
   "metadata": {},
   "source": [
    "That is, the number of subsets of A=$2^{n}$"
   ]
  },
  {
   "cell_type": "markdown",
   "metadata": {},
   "source": [
    "Let B = A $\\cup$ {a}. That is, create a set B which has all the elements of A and one additional element a. Therefore, |B| = n+1"
   ]
  },
  {
   "cell_type": "markdown",
   "metadata": {},
   "source": [
    "Now consider all the subsets of B. There are two kinds :"
   ]
  },
  {
   "cell_type": "markdown",
   "metadata": {},
   "source": [
    "Those that are in A (which do not include the new element a), and those that are in A but include the new element a."
   ]
  },
  {
   "cell_type": "markdown",
   "metadata": {},
   "source": [
    "In other words, numbers of subsets of B = those that are in A + those that are in A plus the new element a."
   ]
  },
  {
   "cell_type": "markdown",
   "metadata": {},
   "source": [
    "= $2^{n}$ (by induction hypothesis) + $2^{n}$ (there are same subsets of A, but each susbsets now has a new element attached.)"
   ]
  },
  {
   "cell_type": "markdown",
   "metadata": {},
   "source": [
    "$\\mathbb{P}$(B) = $2^{n}$ + $2^{n}$ = $2.2^{n}$ = $2^{n+1}$"
   ]
  },
  {
   "cell_type": "markdown",
   "metadata": {},
   "source": [
    "Hence proved"
   ]
  },
  {
   "cell_type": "markdown",
   "metadata": {},
   "source": [
    "For those that are familiar with binary numbers, the following discussion is another way to prove tha cardinality of power set. "
   ]
  },
  {
   "cell_type": "markdown",
   "metadata": {},
   "source": [
    "| set | cardinality | binary number | subset | number of binary strings |\n",
    "|-----|-------------|---------------|--------|--------------------------|\n",
    "|$\\varnothing$| 0   | 0             | -      |                        1 |\n",
    "|-----|-------------|---------------|--------|--------------------------|\n",
    "|{a}  | 1           | 0             | {$\\varnothing$}|               2 |\n",
    "|{a}  | 1           | 1             | {1}|               2 |\n",
    "|-----|-------------|---------------|--------|--------------------------|\n",
    "|{a,b}  | 2           | 00             | {$\\varnothing$}|               4 |\n",
    "|{a,b}  | 2           | 01             | {b}|               4 |\n",
    "|{a,b}  | 2           | 10             | {a}|               4 |\n",
    "|{a,b}  | 2           | 11             | {a,b}|               4 |\n",
    "|-----|-------------|---------------|--------|--------------------------|\n",
    "|{a,b,c}  | 3           | 000             | {$\\varnothing$}|               8 |\n",
    "|{a,b,c}  | 3           | 001             | {c}|               8 |\n",
    "|{a,b,c}  | 3           | 010             | {b}|               8 |\n",
    "|{a,b,c}  | 3           | 011             | {a,b}|               8 |\n",
    "|{a,b,c}  | 3           | 100             | {c}|               8 |\n",
    "|{a,b,c}  | 3           | 101             | {a,c}|               8 |\n",
    "|{a,b,c}  | 3           | 110             | {a,b}|               8 |\n",
    "|{a,b,c}  | 3           | 111            | {a,b,c}|               8 |"
   ]
  },
  {
   "cell_type": "markdown",
   "metadata": {},
   "source": [
    "As can be seen from the table above, each binary number corresponds to a subset. The length of any binary string is equal to the set cardinality. For example, for the set {a,b,c}, the string 011 indicates that element a is subset and element b and c are present in the subset."
   ]
  }
 ],
 "metadata": {
  "kernelspec": {
   "display_name": "Python 3",
   "language": "python",
   "name": "python3"
  },
  "language_info": {
   "codemirror_mode": {
    "name": "ipython",
    "version": 3
   },
   "file_extension": ".py",
   "mimetype": "text/x-python",
   "name": "python",
   "nbconvert_exporter": "python",
   "pygments_lexer": "ipython3",
   "version": "3.7.1"
  }
 },
 "nbformat": 4,
 "nbformat_minor": 2
}
