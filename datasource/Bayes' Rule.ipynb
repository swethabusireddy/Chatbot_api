{
 "cells": [
  {
   "cell_type": "markdown",
   "metadata": {},
   "source": [
    "[//]:#(LT:)\n",
    "\n",
    "[//]:#(ST:)\n",
    "\n",
    "[//]:#(KW:)"
   ]
  },
  {
   "cell_type": "markdown",
   "metadata": {},
   "source": [
    "### Bayes' Rule\n",
    "\n",
    "Suppose $A_1$,$A_2$,...,$A_m$ are disjoint events such that $A_1$ $\\cup$ $A_2$ $\\cup$ ... $\\cup$ $A_m$ = U (universal set) <br>\n",
    "\n",
    "The conditional probability of $A_i$ given an event B is: <br>\n",
    "\n",
    "\n",
    "$\\begin{align}P(A_i|B) &= \\frac{P(B|A_i) \\cdot P(A_i)}{P(B|A_1) \\cdot P(A_1) + P(B|A_2) \\cdot P(A_2) + ... + P(B|A_m) \\cdot P(B|A_m)}\\\\ \\\\ \\\\\n",
    "&\\implies P(A_i|B) = \\frac{P(B|A_i) \\cdot P(A_i)}{P(B)}\n",
    "\\end{align}$<br> <br>\n",
    "\n",
    "\n",
    "Example: Suppose it is raining and you wish to determine the cloud coverage given the following information. <br>\n",
    "\n",
    "Let A = {cloud coverage} where, <br>\n",
    "\n",
    "P($A_1$) = P(none) = 20$\\%$ of days there is zero cloud coverage. <br>\n",
    "\n",
    "P($A_2$) = P(partial) = 60$\\%$ of days there is partial cloud coverage. <br>\n",
    "\n",
    "P($A_3$) = P(full) = 20$\\%$ of days there is full cloud coverage. <br>\n",
    "\n",
    "and <br>\n",
    "\n",
    "P(rain) = 20% of days are rainy. <br>\n",
    "\n",
    "P(rain|full coverage) = 40% of full cloud coverage days results in rain. <br>\n",
    "\n",
    "P(full coverage) = 30% of days are full cloud coverage days. <br>\n",
    "\n",
    "\n",
    "Then, <br>\n",
    "\n",
    "$\\begin{align}P(A_3|B) &= P(full|rain) \\\\ \\\\ &= \\frac{P(rain|full) \\cdot P(full)}{P(rain)} \\\\ \\\\ \n",
    "&= \\frac{(.4) \\cdot (.3)}{(.2)} \\\\ \\\\ &\\simeq .27\n",
    "\\end{align}$ <br> \n",
    "\n",
    "We read the result as, approximately a 27% chance it is a full cloud coverage day given it is raining. <br> \n",
    "\n",
    "\n"
   ]
  },
  {
   "cell_type": "code",
   "execution_count": null,
   "metadata": {},
   "outputs": [],
   "source": []
  }
 ],
 "metadata": {
  "celltoolbar": "Edit Metadata",
  "kernelspec": {
   "display_name": "Python 3",
   "language": "python",
   "name": "python3"
  },
  "language_info": {
   "codemirror_mode": {
    "name": "ipython",
    "version": 3
   },
   "file_extension": ".py",
   "mimetype": "text/x-python",
   "name": "python",
   "nbconvert_exporter": "python",
   "pygments_lexer": "ipython3",
   "version": "3.7.3"
  }
 },
 "nbformat": 4,
 "nbformat_minor": 2
}
