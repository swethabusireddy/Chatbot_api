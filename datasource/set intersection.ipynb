{
 "cells": [
  {
   "cell_type": "markdown",
   "metadata": {},
   "source": [
    "# Set Intersection Operation"
   ]
  },
  {
   "cell_type": "markdown",
   "metadata": {},
   "source": [
    "The intersection of two sets A and B is a set which contains elements that are in both the sets."
   ]
  },
  {
   "cell_type": "markdown",
   "metadata": {},
   "source": [
    "The union of two sets A and B is denoted by $$A \\cap B$$ \n"
   ]
  },
  {
   "cell_type": "markdown",
   "metadata": {},
   "source": [
    "Example: \n",
    "    let B = {0,1} be the set of binary digits, and D = {0,1,2,...,9} be the set of decimal digits.\n",
    "    $B \\cap D$ = {0,1} as 0 and 1 are the only two elements that are present in both B and D.\n",
    "More formally,\n",
    "    $$A\\cap B = {x|x\\in A \\; and \\; x\\in B }$$\n",
    "Alternatively,\n",
    "    $$x \\in A \\cap B \\Leftrightarrow x \\in A \\; and \\; x \\in B$$"
   ]
  },
  {
   "cell_type": "markdown",
   "metadata": {},
   "source": [
    "Example:<br>\n",
    "    let B = {0,1} <br>\n",
    "    what is $B \\cap \\varnothing  ?$ <br>\n",
    "    since $\\varnothing$ has no elements in it, there are no elements that are common to both B and $\\varnothing$.<br>\n",
    "    Therefore, $B \\cap \\varnothing = \\varnothing$ <br>"
   ]
  },
  {
   "cell_type": "markdown",
   "metadata": {},
   "source": [
    " # Venn diagram for set intersection"
   ]
  },
  {
   "cell_type": "markdown",
   "metadata": {},
   "source": [
    "Figure below shows the Venn diagram for intersection of sets A and B. The intersection in the shaded area."
   ]
  },
  {
   "cell_type": "markdown",
   "metadata": {},
   "source": [
    "![title](img/F6.png)\n"
   ]
  },
  {
   "cell_type": "code",
   "execution_count": null,
   "metadata": {},
   "outputs": [],
   "source": []
  }
 ],
 "metadata": {
  "celltoolbar": "Edit Metadata",
  "kernelspec": {
   "display_name": "Python 3",
   "language": "python",
   "name": "python3"
  },
  "language_info": {
   "codemirror_mode": {
    "name": "ipython",
    "version": 3
   },
   "file_extension": ".py",
   "mimetype": "text/x-python",
   "name": "python",
   "nbconvert_exporter": "python",
   "pygments_lexer": "ipython3",
   "version": "3.7.1"
  }
 },
 "nbformat": 4,
 "nbformat_minor": 2
}
