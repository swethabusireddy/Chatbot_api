{
 "cells": [
  {
   "cell_type": "markdown",
   "metadata": {},
   "source": [
    "[//]: # (Long-Title: Poisson Distribution)\n",
    "\n",
    "[//]: # (Short-Title:)\n",
    "\n",
    "[//]: # (keyword:)"
   ]
  },
  {
   "cell_type": "markdown",
   "metadata": {},
   "source": [
    "### Poisson Distribution\n",
    "\n",
    "The Poisson distribution tells us the probability of an event occuring given the number of average events, $\\lambda$. <br> <br>\n",
    "\n",
    "pmf: $f(x;\\lambda) = P(X = x) = \\frac{e^{-\\lambda} \\cdot \\lambda ^x}{x!} \\hspace{1cm} \\lambda > 0 \\textrm{ and } x = 0,1,2,... $ <br> <br>\n",
    "\n",
    "mean: $E[X] = \\lambda$ <br> <br>\n",
    "\n",
    "variance: $V[X] = \\lambda$ <br> <br>\n",
    "\n",
    "mgf: $M(t) = e^{\\lambda(e^t-1)}$ <br> <br>\n",
    "\n",
    "\n",
    "\n",
    "Example: Let X = the number of cars that drive down a certain street everyday where the average $\\lambda = 5$ means that on average 5 cars drive down the street each day. What is the probability that exactly 6 cars will down the street tomorrow? <br> <br>\n",
    "\n",
    "$\\begin{align}P(X = 6) &=  \\frac{e^{-5}(5^6)}{6!} \\\\ \\\\\n",
    "&= \\frac{e^{-5}(15625)}{720} \\\\ \\\\\n",
    "&\\approx 0.146\n",
    "\\end{align}$ <br> <br> \n",
    "\n",
    "The probability that exactly 6 cars will drive down the street tomorrow is approximately 15%. <br> <br>\n",
    "\n",
    "What is the probability that at most 6 cars drive down the street tomorrow? <br> <br>\n",
    "\n",
    "$\\begin{align}P(X \\leq 6) &= \\sum_{x = 0}^{x = 6} \\frac{e^{-\\lambda} \\cdot \\lambda ^x}{x!} \\\\ \\\\\n",
    "&= \\frac{e^{-5}(5^0)}{0!} + \\frac{e^{-5}(5^1)}{1!} + \\frac{e^{-5}(5^2)}{2!} + \\frac{e^{-5}(5^3)}{3!} + \\frac{e^{-5}(5^4)}{4!} + \\frac{e^{-5}(5^5)}{5!} + \\frac{e^{-5}(5^6)}{6!} \\\\ \\\\\n",
    "&\\approx .76\\end{align}$<br> <br>\n",
    "\n",
    "The probability that at most 6 cars will drive by tomorrow is approximately 76%. <br>"
   ]
  },
  {
   "cell_type": "code",
   "execution_count": null,
   "metadata": {},
   "outputs": [],
   "source": []
  }
 ],
 "metadata": {
  "celltoolbar": "Edit Metadata",
  "kernelspec": {
   "display_name": "Python 3",
   "language": "python",
   "name": "python3"
  },
  "language_info": {
   "codemirror_mode": {
    "name": "ipython",
    "version": 3
   },
   "file_extension": ".py",
   "mimetype": "text/x-python",
   "name": "python",
   "nbconvert_exporter": "python",
   "pygments_lexer": "ipython3",
   "version": "3.7.3"
  }
 },
 "nbformat": 4,
 "nbformat_minor": 2
}
